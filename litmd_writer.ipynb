{
 "cells": [
  {
   "cell_type": "markdown",
   "metadata": {},
   "source": [
    "# LitMD writer\n",
    "An interface for writing paper summaries for litmd."
   ]
  },
  {
   "cell_type": "code",
   "execution_count": 1,
   "metadata": {},
   "outputs": [
    {
     "data": {
      "application/javascript": [
       "IPython.notebook.set_autosave_interval(0)"
      ]
     },
     "metadata": {},
     "output_type": "display_data"
    },
    {
     "name": "stdout",
     "output_type": "stream",
     "text": [
      "Autosave disabled\n"
     ]
    },
    {
     "name": "stderr",
     "output_type": "stream",
     "text": [
      "C:\\Users\\david\\Miniconda3\\lib\\site-packages\\rpy2\\robjects\\pandas2ri.py:17: FutureWarning: pandas.core.index is deprecated and will be removed in a future version.  The public classes are available in the top-level namespace.\n",
      "  from pandas.core.index import Index as PandasIndex\n"
     ]
    }
   ],
   "source": [
    "%autosave 0\n",
    "\n",
    "from pathlib import Path\n",
    "import os\n",
    "import pandas as pd\n",
    "import numpy as np\n",
    "\n",
    "import itertools\n",
    "\n",
    "%load_ext rpy2.ipython"
   ]
  },
  {
   "cell_type": "code",
   "execution_count": 2,
   "metadata": {},
   "outputs": [],
   "source": [
    "papers = os.listdir(\"papers\")"
   ]
  },
  {
   "cell_type": "markdown",
   "metadata": {},
   "source": [
    "## Tag summary\n",
    "Print a list of all tags and the number of papers with that tag."
   ]
  },
  {
   "cell_type": "code",
   "execution_count": 3,
   "metadata": {},
   "outputs": [
    {
     "name": "stdout",
     "output_type": "stream",
     "text": [
      "ADE                               2\n",
      "MHC processing                    4\n",
      "ancestral_reconstruction          8\n",
      "antibody                          5\n",
      "antigen                          12\n",
      "assay_prediction                  5\n",
      "corona virus                      2\n",
      "coronavirus                      38\n",
      "epitope                          11\n",
      "epitope prediction                5\n",
      "epitopes                          1\n",
      "flu evolution                     1\n",
      "flu-vaccine                      12\n",
      "flu_evolution                     4\n",
      "flu_vaccine                       1\n",
      "hemagglutinin                     5\n",
      "immune correlates                 1\n",
      "immune response                  10\n",
      "indels                            4\n",
      "machine learning                  4\n",
      "machine_learning                 15\n",
      "phylogenetic non-independence     1\n",
      "phylogenetics                     7\n",
      "sequence_alignment                3\n",
      "statistics                        3\n",
      "substitution_matrix               2\n",
      "vaccine                           6\n",
      "vaccine design                   18\n",
      "virus evolution                   5\n",
      "zoonotic disease                  4\n",
      "dtype: int64\n"
     ]
    }
   ],
   "source": [
    "tag_list = list()\n",
    "\n",
    "for paper in papers:\n",
    "#     print(paper)\n",
    "    file = \"papers/\" + paper\n",
    "    with open(file, \"r\") as f:\n",
    "        lines=f.readlines()\n",
    "    #Index of tag start and end\n",
    "    tagi = [i for i,line in enumerate(lines) if \"tags\" in line]\n",
    "    tags = lines[tagi[0]+1 : tagi[-1]]\n",
    "    #Remove new line character\n",
    "    tags = [tag[:-1] for tag in tags]\n",
    "    tag_list.append(tags)# = tag_list + tags\n",
    "    \n",
    "#Flatten tag_list\n",
    "flat_tag_list = [tag for paper_tags in tag_list for tag in paper_tags]\n",
    "\n",
    "alphabetised_list = pd.Series(flat_tag_list).value_counts().sort_index()\n",
    "print(alphabetised_list)"
   ]
  },
  {
   "cell_type": "code",
   "execution_count": null,
   "metadata": {},
   "outputs": [],
   "source": [
    "title = \"Summarizing EC50 estimates from multiple dose-response experiments: A comparison of a meta-analysis strategy to a mixed-effects model approach\"\n",
    "\n",
    "year = 2014\n",
    "\n",
    "authors = \"\"\"Jiang, Xiaoqi\n",
    "Kopp-Schneider, Annette\"\"\"\n",
    "\n",
    "#No new lines before, between, or after tags\n",
    "tags = \"\"\"statistics\"\"\"\n",
    "\n",
    "text = \"\"\"When fitting dose response curves the actual curve may vary due to unknown biological reasons between repeats.\n",
    "Therefore experimental designs often include repeats and therefore correctly averaging the IC50 value is a key aim of dose response curves.\n",
    "Random effects are an ideal way to solve this but may be over parameterise and fitting them is complicated as a dose response curve\n",
    "is inherently non-linear. This paper suggests a meta-analysis approach where several separate models are fit such that only a single \n",
    "variable of interest changes within models.\n",
    "\"\"\""
   ]
  },
  {
   "cell_type": "code",
   "execution_count": 80,
   "metadata": {},
   "outputs": [],
   "source": [
    "#Remove bad characters from title and make into file name\n",
    "file = \"papers/\" + title.replace(\":\", \"\") + \".md\"\n",
    "\n",
    "#If file already exists don't overwrite\n",
    "if os.path.exists(file):\n",
    "    print(\"File already exists\")\n",
    "else:\n",
    "    with open(file, 'w') as f:\n",
    "        #Write metadata\n",
    "        f.write(\"# \" + title + \"\\n\")\n",
    "        f.write(\"## %s\\n\" %year)\n",
    "        f.write(\"## Authors\\n\" + authors + \"\\n\")\n",
    "\n",
    "        #write tags\n",
    "        f.write(\"### tags\\n\")\n",
    "        f.write(tags)\n",
    "        f.write(\"\\n### tags\\n\")\n",
    "\n",
    "        #Write summary of paper\n",
    "        f.write(text)"
   ]
  },
  {
   "cell_type": "code",
   "execution_count": null,
   "metadata": {},
   "outputs": [],
   "source": [
    "title = \"\"\n",
    "\n",
    "year = 2020\n",
    "\n",
    "authors = \"\"\"\"\"\"\n",
    "\n",
    "#No new lines before, between, or after tags\n",
    "tags = \"\"\"\"\"\"\n",
    "\n",
    "text = \"\"\"\n",
    "\"\"\""
   ]
  }
 ],
 "metadata": {
  "kernelspec": {
   "display_name": "Python 3",
   "language": "python",
   "name": "python3"
  },
  "language_info": {
   "codemirror_mode": {
    "name": "ipython",
    "version": 3
   },
   "file_extension": ".py",
   "mimetype": "text/x-python",
   "name": "python",
   "nbconvert_exporter": "python",
   "pygments_lexer": "ipython3",
   "version": "3.7.4"
  }
 },
 "nbformat": 4,
 "nbformat_minor": 4
}
