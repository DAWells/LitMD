{
 "cells": [
  {
   "cell_type": "markdown",
   "metadata": {},
   "source": [
    "# LitMD writer\n",
    "An interface for writing paper summaries for litmd."
   ]
  },
  {
   "cell_type": "code",
   "execution_count": 1,
   "metadata": {},
   "outputs": [],
   "source": [
    "from pathlib import Path\n",
    "import os\n",
    "import pandas as pd\n",
    "import numpy as np\n",
    "\n",
    "# import itertools\n",
    "\n",
    "# %load_ext rpy2.ipython"
   ]
  },
  {
   "cell_type": "code",
   "execution_count": 2,
   "metadata": {},
   "outputs": [],
   "source": [
    "papers = os.listdir(\"papers\")"
   ]
  },
  {
   "cell_type": "markdown",
   "metadata": {},
   "source": [
    "## Tag summary\n",
    "Print a list of all tags and the number of papers with that tag."
   ]
  },
  {
   "cell_type": "code",
   "execution_count": 3,
   "metadata": {
    "scrolled": false
   },
   "outputs": [
    {
     "name": "stdout",
     "output_type": "stream",
     "text": [
      "                                  4\n",
      "ADE                               2\n",
      "MHC processing                    3\n",
      "MHC_processing                    1\n",
      "ancestral_reconstruction          8\n",
      "antibody                          9\n",
      "antigen                          12\n",
      "assay_prediction                  5\n",
      "coronavirus                      70\n",
      "crossreactive                     8\n",
      "epitope                          14\n",
      "epitope prediction                6\n",
      "epitope_prediction                1\n",
      "flu-vaccine                      15\n",
      "flu_evolution                     5\n",
      "hemagglutinin                     5\n",
      "immune correlates                 2\n",
      "immune response                  14\n",
      "indels                            4\n",
      "machine learning                  2\n",
      "machine_learning                 20\n",
      "machines learning                 1\n",
      "phylogenetic non-independence     1\n",
      "phylogenetics                     7\n",
      "sequence_alignment                3\n",
      "statistics                        8\n",
      "substitution_matrix               2\n",
      "vaccine                          15\n",
      "vaccine design                   25\n",
      "virus entry                       1\n",
      "virus evolution                  11\n",
      "zoonotic disease                  6\n",
      "dtype: int64\n"
     ]
    }
   ],
   "source": [
    "tag_list = list()\n",
    "\n",
    "for paper in papers:\n",
    "#     print(paper)\n",
    "    file = \"papers/\" + paper\n",
    "    with open(file, \"r\") as f:\n",
    "        lines=f.readlines()\n",
    "    #Index of tag start and end\n",
    "    tagi = [i for i,line in enumerate(lines) if \"tags\" in line]\n",
    "    tags = lines[tagi[0]+1 : tagi[-1]]\n",
    "    #Remove new line character\n",
    "    tags = [tag[:-1] for tag in tags]\n",
    "    tag_list.append(tags)# = tag_list + tags\n",
    "    \n",
    "#Flatten tag_list\n",
    "flat_tag_list = [tag for paper_tags in tag_list for tag in paper_tags]\n",
    "\n",
    "alphabetised_list = pd.Series(flat_tag_list).value_counts().sort_index()\n",
    "print(alphabetised_list)"
   ]
  },
  {
   "cell_type": "code",
   "execution_count": 7,
   "metadata": {},
   "outputs": [],
   "source": [
    "title = \"\"\n",
    "\n",
    "year = 2021\n",
    "\n",
    "authors = \"\"\"\"\"\"\n",
    "\n",
    "#No new lines before, between, or after tags\n",
    "tags = \"\"\"\"\"\"\n",
    "\n",
    "#When using mathjax \\t must be \\\\t eg \\\\theta rather than \\theta\n",
    "text = \"\"\"\n",
    "\"\"\""
   ]
  },
  {
   "cell_type": "code",
   "execution_count": 8,
   "metadata": {},
   "outputs": [],
   "source": [
    "#Remove bad characters from title and make into file name\n",
    "\n",
    "#Shorten title to 100 characters for file name\n",
    "file = \"papers/\" + title[:100].replace(\":\", \"\") + \".md\"\n",
    "\n",
    "#If file already exists don't overwrite\n",
    "if os.path.exists(file):\n",
    "    print(\"File already exists\")\n",
    "else:\n",
    "    with open(file, 'w') as f:\n",
    "        #Write metadata\n",
    "        f.write(\"# \" + title + \"\\n\")\n",
    "        f.write(\"## %s\\n\" %year)\n",
    "        f.write(\"## Authors\\n\" + authors + \"\\n\")\n",
    "\n",
    "        #write tags\n",
    "        f.write(\"### tags\\n\")\n",
    "        f.write(tags)\n",
    "        f.write(\"\\n### tags\\n\")\n",
    "\n",
    "        #Write summary of paper\n",
    "        f.write(text)"
   ]
  },
  {
   "cell_type": "code",
   "execution_count": 17,
   "metadata": {},
   "outputs": [],
   "source": [
    "title = \"\"\n",
    "\n",
    "year = 2021\n",
    "\n",
    "authors = \"\"\"\"\"\"\n",
    "\n",
    "#No new lines before, between, or after tags\n",
    "tags = \"\"\"\"\"\"\n",
    "\n",
    "#When using mathjax \\t must be \\\\t eg \\\\theta rather than \\theta\n",
    "text = \"\"\"\n",
    "\"\"\""
   ]
  },
  {
   "cell_type": "code",
   "execution_count": null,
   "metadata": {},
   "outputs": [],
   "source": []
  }
 ],
 "metadata": {
  "kernelspec": {
   "display_name": "Python 3",
   "language": "python",
   "name": "python3"
  },
  "language_info": {
   "codemirror_mode": {
    "name": "ipython",
    "version": 3
   },
   "file_extension": ".py",
   "mimetype": "text/x-python",
   "name": "python",
   "nbconvert_exporter": "python",
   "pygments_lexer": "ipython3",
   "version": "3.7.4"
  }
 },
 "nbformat": 4,
 "nbformat_minor": 4
}
