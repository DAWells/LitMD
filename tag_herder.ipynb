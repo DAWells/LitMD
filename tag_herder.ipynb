{
 "cells": [
  {
   "cell_type": "markdown",
   "metadata": {},
   "source": [
    "# Lit MD\n",
    "Literature review in mark down. Make notes in a markdown document as you read papers, mark them with a few simple tags and make it easy to compile these documents into a review based on their user defined tags."
   ]
  },
  {
   "cell_type": "code",
   "execution_count": 33,
   "metadata": {},
   "outputs": [],
   "source": [
    "from pathlib import Path\n",
    "import os\n",
    "import pandas as pd"
   ]
  },
  {
   "cell_type": "code",
   "execution_count": 34,
   "metadata": {},
   "outputs": [],
   "source": [
    "papers = os.listdir(\"papers\")"
   ]
  },
  {
   "cell_type": "markdown",
   "metadata": {},
   "source": [
    "# All tags"
   ]
  },
  {
   "cell_type": "code",
   "execution_count": 35,
   "metadata": {},
   "outputs": [],
   "source": [
    "tag_list = list()\n",
    "\n",
    "for paper in papers:\n",
    "    file = \"papers/\" + paper\n",
    "    with open(file, \"r\") as f:\n",
    "        lines=f.readlines()\n",
    "    #Index of tag start and end\n",
    "    tagi = [i for i,line in enumerate(lines) if \"tags\" in line]\n",
    "    tags = lines[tagi[0]+1 : tagi[-1]]\n",
    "    #Remove new line character\n",
    "    tags = [tag[:-1] for tag in tags]\n",
    "    tag_list = tag_list + tags"
   ]
  },
  {
   "cell_type": "code",
   "execution_count": 36,
   "metadata": {},
   "outputs": [
    {
     "data": {
      "text/plain": [
       "3          ancestral_reconstruction\n",
       "9                          antibody\n",
       "8                           antigen\n",
       "14                 assay_prediction\n",
       "7                           epitope\n",
       "6                       flu-vaccine\n",
       "2                     flu_evolution\n",
       "10                    hemagglutinin\n",
       "15                  immune response\n",
       "4                            indels\n",
       "13                 machine_learning\n",
       "12    phylogenetic non-independence\n",
       "0                     phylogenetics\n",
       "5                sequence_alignment\n",
       "11                       statistics\n",
       "1               substitution_matrix\n",
       "dtype: object"
      ]
     },
     "execution_count": 36,
     "metadata": {},
     "output_type": "execute_result"
    }
   ],
   "source": [
    "pd.Series(pd.Series(tag_list).unique()).sort_values()"
   ]
  },
  {
   "cell_type": "markdown",
   "metadata": {},
   "source": [
    "# Create review\n",
    "Specify a list of tags to keep for the review."
   ]
  },
  {
   "cell_type": "code",
   "execution_count": 39,
   "metadata": {},
   "outputs": [],
   "source": [
    "review_name = \"test\"\n",
    "review_name = \"reviews/%s.md\" %(review_name)\n",
    "keep_tags = ['machine_learning', 'assay_prediction', \"flu-vaccine\"]"
   ]
  },
  {
   "cell_type": "code",
   "execution_count": 51,
   "metadata": {},
   "outputs": [],
   "source": [
    "with open(\"reviews/test.md\", \"w\") as review:\n",
    "    review.write(\"# Review of: %s\\n\" %(\", \".join(keep_tags)))\n",
    "        \n",
    "for paper in papers:\n",
    "    file = \"papers/\" + paper\n",
    "    with open(file, \"r\") as f:\n",
    "        lines=f.readlines()\n",
    "    #Index of tag start and end\n",
    "    tagi = [i for i,line in enumerate(lines) if \"tags\" in line]\n",
    "    tags = lines[tagi[0]+1 : tagi[-1]]\n",
    "    #Remove new line character\n",
    "    tags = [tag[:-1] for tag in tags]\n",
    "    if any(tag in keep_tags for tag in tags):\n",
    "        with open(\"reviews/test.md\", \"a\") as review:\n",
    "            review.writelines(lines)\n",
    "            review.write(\"\\n\")"
   ]
  },
  {
   "cell_type": "code",
   "execution_count": null,
   "metadata": {},
   "outputs": [],
   "source": []
  }
 ],
 "metadata": {
  "kernelspec": {
   "display_name": "Python 3",
   "language": "python",
   "name": "python3"
  },
  "language_info": {
   "codemirror_mode": {
    "name": "ipython",
    "version": 3
   },
   "file_extension": ".py",
   "mimetype": "text/x-python",
   "name": "python",
   "nbconvert_exporter": "python",
   "pygments_lexer": "ipython3",
   "version": "3.7.4"
  }
 },
 "nbformat": 4,
 "nbformat_minor": 4
}
