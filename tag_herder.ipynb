{
 "cells": [
  {
   "cell_type": "markdown",
   "metadata": {},
   "source": [
    "# Lit MD\n",
    "Literature review in mark down. Make notes in a markdown document as you read papers, mark them with a few simple tags and make it easy to compile these documents into a review based on their user defined tags."
   ]
  },
  {
   "cell_type": "code",
   "execution_count": 56,
   "metadata": {},
   "outputs": [],
   "source": [
    "from pathlib import Path\n",
    "import os\n",
    "import pandas as pd"
   ]
  },
  {
   "cell_type": "code",
   "execution_count": 57,
   "metadata": {},
   "outputs": [],
   "source": [
    "papers = os.listdir(\"papers\")"
   ]
  },
  {
   "cell_type": "markdown",
   "metadata": {},
   "source": [
    "# All tags"
   ]
  },
  {
   "cell_type": "code",
   "execution_count": 58,
   "metadata": {},
   "outputs": [],
   "source": [
    "tag_list = list()\n",
    "\n",
    "for paper in papers:\n",
    "    file = \"papers/\" + paper\n",
    "    with open(file, \"r\") as f:\n",
    "        lines=f.readlines()\n",
    "    #Index of tag start and end\n",
    "    tagi = [i for i,line in enumerate(lines) if \"tags\" in line]\n",
    "    tags = lines[tagi[0]+1 : tagi[-1]]\n",
    "    #Remove new line character\n",
    "    tags = [tag[:-1] for tag in tags]\n",
    "    tag_list = tag_list + tags"
   ]
  },
  {
   "cell_type": "code",
   "execution_count": 59,
   "metadata": {},
   "outputs": [
    {
     "data": {
      "text/plain": [
       "ancestral_reconstruction          8\n",
       "antibody                          3\n",
       "antigen                          12\n",
       "assay_prediction                  5\n",
       "chimeric                          1\n",
       "corona_virus                      6\n",
       "coronavirus                       2\n",
       "epitope                           4\n",
       "epitope prediction                1\n",
       "epitope_prediction                1\n",
       "flu-vaccine                      10\n",
       "flu_evolution                     3\n",
       "hemagglutinin                     3\n",
       "immune response                   2\n",
       "indels                            4\n",
       "machine_learning                 13\n",
       "phylogenetic non-independence     1\n",
       "phylogenetics                     7\n",
       "sequence_alignment                3\n",
       "statistics                        1\n",
       "substitution_matrix               2\n",
       "vaccine design                    6\n",
       "dtype: int64"
      ]
     },
     "execution_count": 59,
     "metadata": {},
     "output_type": "execute_result"
    }
   ],
   "source": [
    "pd.Series(tag_list).value_counts().sort_index()"
   ]
  },
  {
   "cell_type": "markdown",
   "metadata": {},
   "source": [
    "# Create review\n",
    "Specify a list of tags to keep for the review."
   ]
  },
  {
   "cell_type": "code",
   "execution_count": 60,
   "metadata": {},
   "outputs": [],
   "source": [
    "review_name = \"test\"\n",
    "review_name = \"reviews/%s.md\" %(review_name)\n",
    "keep_tags = [\"vaccine desgin\", \"vaccine design\"]"
   ]
  },
  {
   "cell_type": "code",
   "execution_count": 61,
   "metadata": {
    "scrolled": true
   },
   "outputs": [
    {
     "name": "stdout",
     "output_type": "stream",
     "text": [
      "A pan-coronavirus fusion inhibitor targeting the HR1 domain of human coronavirus spike.md \n",
      " ['corona_virus', 'vaccine design'] \n",
      "\n",
      "A sequence homology and bioinformatic approach can predict candidate targets for immune responses to SARS-CoV-2.md \n",
      " ['coronavirus', 'vaccine design', 'epitope', 'epitope prediction'] \n",
      "\n",
      "Chimeric epitope vaccine against Leptospira interrogans infection and induced specific immunity in Guinea pigs.md \n",
      " ['vaccine design', 'chimeric'] \n",
      "\n",
      "Designs of Antigen Structure and Composition for Improved Protein-Based Vaccine Efficacy.md \n",
      " ['antigen', 'vaccine design'] \n",
      "\n",
      "Epigraph A Vaccine Design Tool Applied to an HIV Therapeutic Vaccine and a Pan-Filovirus Vaccine.md \n",
      " ['vaccine design'] \n",
      "\n",
      "Preliminary Identification of Potential Vaccine Targets for the COVID-19 Coronavirus (SARS-CoV- 2) Based on SARS-CoV Immunological Studies.md \n",
      " ['coronavirus', 'vaccine design'] \n",
      "\n"
     ]
    }
   ],
   "source": [
    "#Print paper names\n",
    "for paper in papers:\n",
    "    file = \"papers/\" + paper\n",
    "    with open(file, \"r\") as f:\n",
    "        lines=f.readlines()\n",
    "    #Index of tag start and end\n",
    "    tagi = [i for i,line in enumerate(lines) if \"tags\" in line]\n",
    "    tags = lines[tagi[0]+1 : tagi[-1]]\n",
    "    #Remove new line character\n",
    "    tags = [tag[:-1] for tag in tags]\n",
    "    tag_list = tag_list + tags\n",
    "    if any(tag in keep_tags for tag in tags):\n",
    "        print(paper,\"\\n\", tags,\"\\n\")"
   ]
  },
  {
   "cell_type": "code",
   "execution_count": 62,
   "metadata": {},
   "outputs": [],
   "source": [
    "with open(\"reviews/test.md\", \"w\") as review:\n",
    "    review.write(\"# Review of: %s\\n\" %(\", \".join(keep_tags)))\n",
    "        \n",
    "for paper in papers:\n",
    "    file = \"papers/\" + paper\n",
    "    with open(file, \"r\") as f:\n",
    "        lines=f.readlines()\n",
    "    #Index of tag start and end\n",
    "    tagi = [i for i,line in enumerate(lines) if \"tags\" in line]\n",
    "    tags = lines[tagi[0]+1 : tagi[-1]]\n",
    "    #Remove new line character\n",
    "    tags = [tag[:-1] for tag in tags]\n",
    "    if any(tag in keep_tags for tag in tags):\n",
    "        with open(\"reviews/test.md\", \"a\") as review:\n",
    "            review.writelines(lines)\n",
    "            review.write(\"\\n\")"
   ]
  },
  {
   "cell_type": "code",
   "execution_count": null,
   "metadata": {},
   "outputs": [],
   "source": []
  }
 ],
 "metadata": {
  "kernelspec": {
   "display_name": "Python 3",
   "language": "python",
   "name": "python3"
  },
  "language_info": {
   "codemirror_mode": {
    "name": "ipython",
    "version": 3
   },
   "file_extension": ".py",
   "mimetype": "text/x-python",
   "name": "python",
   "nbconvert_exporter": "python",
   "pygments_lexer": "ipython3",
   "version": "3.7.4"
  }
 },
 "nbformat": 4,
 "nbformat_minor": 4
}
